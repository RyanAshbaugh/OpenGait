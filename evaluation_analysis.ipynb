{
 "cells": [
  {
   "cell_type": "code",
   "execution_count": 1,
   "id": "a5c3314e",
   "metadata": {},
   "outputs": [],
   "source": [
    "import pickle\n",
    "import numpy as np\n",
    "import torch\n",
    "import sys\n",
    "\n",
    "sys.path.insert(0, '/research/iprobe-ashbau12/repos/outside/OpenGait/opengait/')\n",
    "from utils.evaluation import cuda_dist"
   ]
  },
  {
   "cell_type": "code",
   "execution_count": 2,
   "id": "70888ffe",
   "metadata": {},
   "outputs": [],
   "source": [
    "test_metric_file = \"./all_probe_test_metrics.pkl\"\n",
    "with open(test_metric_file, \"rb\") as f:\n",
    "    probe_seqs = pickle.load(f)                                 \n",
    "    gallery_seqs = pickle.load(f)                               \n",
    "    seq_type = pickle.load(f)\n",
    "    acc = pickle.load(f)\n",
    "    gallery_y = pickle.load(f)\n",
    "    label = pickle.load(f)\n",
    "    probe_sequence_label_mask = pickle.load(f)\n",
    "    gallery_labels = pickle.load(f)\n",
    "    feature = pickle.load(f)\n",
    "    to_save = pickle.load(f)"
   ]
  },
  {
   "cell_type": "code",
   "execution_count": null,
   "id": "a50c4fe2",
   "metadata": {},
   "outputs": [],
   "source": [
    "# subject stuff\n",
    "num_probe_subjects_with_gallery = len(set(label[probe_sequence_label_mask]))\n",
    "num_gallery_subjects = len(set(gallery_labels))\n",
    "\n",
    "\n",
    "print(\"Num. probe subjects with gallery: {}\".format(num_probe_subjects_with_gallery))\n",
    "print(\"Num. gallery subjects:            {}\".format(num_gallery_subjects))\n",
    "print(probe_seqs)"
   ]
  },
  {
   "cell_type": "code",
   "execution_count": 3,
   "id": "4cb7d688",
   "metadata": {},
   "outputs": [],
   "source": [
    "gallery_collapsed = []                                                      \n",
    "label_collapsed = []\n",
    "\n",
    "for l, g in to_save['gallery'].items():                                     \n",
    "    label_collapsed.append(l)                                               \n",
    "    gallery_collapsed.append(np.stack(g).mean(0))                           \n",
    "label_collapsed = np.array(label_collapsed)                                 \n",
    "gallery_collapsed = np.stack(gallery_collapsed)                             \n",
    "\n",
    "gallery_x = gallery_collapsed                                               \n",
    "gallery_y = label_collapsed   "
   ]
  },
  {
   "cell_type": "code",
   "execution_count": 5,
   "id": "b7e86e7e",
   "metadata": {},
   "outputs": [],
   "source": [
    "all_probes = []\n",
    "num_rank = 10\n",
    "\n",
    "for (p, probe_seq) in enumerate(probe_seqs):                   \n",
    "    for gallery_seq in gallery_seqs:                           \n",
    "        # for (v1, probe_view) in enumerate(view_list):                     \n",
    "        #     for (v2, gallery_view) in enumerate(view_list):                           \n",
    "        gseq_mask = np.isin(seq_type, gallery_seq) # & np.isin(             \n",
    "        #     view, [gallery_view])                                         \n",
    "        '''                                                                 \n",
    "        gallery_x = feature[gseq_mask, :]                                   \n",
    "        gallery_y = label[gseq_mask]                                        \n",
    "        '''                                                                 \n",
    "\n",
    "        pseq_mask = np.isin(seq_type, probe_seq)                            \n",
    "        # pseq_mask = np.isin(seq_type,                                     \n",
    "        #                     probe_seq) & probe_sequence_label_mask        \n",
    "        # & np.isin(                                                        \n",
    "        #     view, [probe_view])                                           \n",
    "        probe_x = feature[pseq_mask, :]                                     \n",
    "        probe_y = label[pseq_mask]\n",
    "        \n",
    "        all_probes.append(set(probe_y))\n",
    "\n",
    "        dist = cuda_dist(probe_x, gallery_x, 'cos')                        \n",
    "        idx = dist.sort(1)[1].cpu().numpy() \n",
    "        acc[p, :, :, :] = np.round(np.sum(np.cumsum(np.reshape(probe_y, [-1, 1]) == \n",
    "                                                    gallery_y[idx[:, 0:num_rank]],\n",
    "                                                    1) > 0,\n",
    "                                          0) * 100 / dist.shape[0],\n",
    "                                   2)"
   ]
  },
  {
   "cell_type": "code",
   "execution_count": null,
   "id": "77a3119d",
   "metadata": {},
   "outputs": [],
   "source": [
    "print(len(all_probes[0]))"
   ]
  },
  {
   "cell_type": "code",
   "execution_count": 6,
   "id": "5eaee8bf",
   "metadata": {},
   "outputs": [
    {
     "data": {
      "text/plain": [
       "(4410,)"
      ]
     },
     "execution_count": 6,
     "metadata": {},
     "output_type": "execute_result"
    }
   ],
   "source": [
    "probe_y.shape"
   ]
  },
  {
   "cell_type": "code",
   "execution_count": 7,
   "id": "29a215ee",
   "metadata": {},
   "outputs": [
    {
     "data": {
      "text/plain": [
       "array(['G00169', 'G00169', 'G00169', ..., 'G00419', 'G00419', 'G00419'],\n",
       "      dtype='<U6')"
      ]
     },
     "execution_count": 7,
     "metadata": {},
     "output_type": "execute_result"
    }
   ],
   "source": [
    "probe_y"
   ]
  },
  {
   "cell_type": "code",
   "execution_count": 8,
   "id": "3f07b3bb",
   "metadata": {},
   "outputs": [
    {
     "data": {
      "text/plain": [
       "array([['G00169'],\n",
       "       ['G00169'],\n",
       "       ['G00169'],\n",
       "       ...,\n",
       "       ['G00419'],\n",
       "       ['G00419'],\n",
       "       ['G00419']], dtype='<U6')"
      ]
     },
     "execution_count": 8,
     "metadata": {},
     "output_type": "execute_result"
    }
   ],
   "source": [
    "np.reshape(probe_y, [-1, 1])"
   ]
  },
  {
   "cell_type": "code",
   "execution_count": 20,
   "id": "751b6010",
   "metadata": {},
   "outputs": [
    {
     "data": {
      "text/plain": [
       "array([['G00358', 'G00515', 'G00341', ..., 'G00538', 'G00022', 'G00306'],\n",
       "       ['G00169', 'G00358', 'G00341', ..., 'G00515', 'G00022', 'G00076'],\n",
       "       ['G00358', 'G00076', 'G00169', ..., 'G00341', 'G00047', 'G00022'],\n",
       "       ...,\n",
       "       ['G00419', 'G00449', 'G00329', ..., 'G00534', 'G00257', 'G00550'],\n",
       "       ['G00419', 'G00449', 'G00412', ..., 'G00257', 'G00534', 'G00060'],\n",
       "       ['G00419', 'G00449', 'G00412', ..., 'G00550', 'G00003', 'G00257']],\n",
       "      dtype='<U6')"
      ]
     },
     "execution_count": 20,
     "metadata": {},
     "output_type": "execute_result"
    }
   ],
   "source": [
    "gallery_y[idx[:, 0:num_rank]]"
   ]
  },
  {
   "cell_type": "code",
   "execution_count": 25,
   "id": "1382c076",
   "metadata": {},
   "outputs": [
    {
     "data": {
      "text/plain": [
       "array([68.5 , 75.12, 77.28, 78.37, 79.05, 79.61, 80.16, 80.41, 80.66,\n",
       "       80.84])"
      ]
     },
     "execution_count": 25,
     "metadata": {},
     "output_type": "execute_result"
    }
   ],
   "source": [
    "np.round(np.sum(np.cumsum(np.reshape(probe_y, [-1, 1]) == gallery_y[idx[:, 0:num_rank]], 1) > 0, 0)*100 / dist.shape[0], 2)"
   ]
  },
  {
   "cell_type": "code",
   "execution_count": 33,
   "id": "2d217d43",
   "metadata": {},
   "outputs": [
    {
     "data": {
      "text/plain": [
       "(4410, 10)"
      ]
     },
     "execution_count": 33,
     "metadata": {},
     "output_type": "execute_result"
    }
   ],
   "source": [
    "(np.cumsum(np.reshape(probe_y, [-1, 1]) == gallery_y[idx[:, 0:num_rank]], 1) > 0).shape"
   ]
  },
  {
   "cell_type": "code",
   "execution_count": 14,
   "id": "efe90d0e",
   "metadata": {},
   "outputs": [
    {
     "data": {
      "text/plain": [
       "array(['G00169', 'G00516', 'G00430', 'G00170', 'G00374', 'G00045',\n",
       "       'G00038', 'G00246', 'G00341', 'G00496', 'G00048', 'G00304',\n",
       "       'G00325', 'G00352', 'G00255', 'G00358', 'G00511', 'G00380',\n",
       "       'G00083', 'G00550', 'G00251', 'G00356', 'G00022', 'G00412',\n",
       "       'G00515', 'G00300', 'G00393', 'G00270', 'G00534', 'G00179',\n",
       "       'G00003', 'G00549', 'G00571', 'G00401', 'G00046', 'G00232',\n",
       "       'G00449', 'G00533', 'G00073', 'G00443', 'G00293', 'G00518',\n",
       "       'G00060', 'G00017', 'G00264', 'G00219', 'G00452', 'G00247',\n",
       "       'G00378', 'G00071', 'G00076', 'G00431', 'G00134', 'G00329',\n",
       "       'G00354', 'G00469', 'G00257', 'G00218', 'G00386', 'G00500',\n",
       "       'G00538', 'G00072', 'G00448', 'G00545', 'G00306', 'G00295',\n",
       "       'G00047', 'G00499', 'G00286', 'G00215', 'G00088', 'G00456',\n",
       "       'G00419'], dtype='<U6')"
      ]
     },
     "execution_count": 14,
     "metadata": {},
     "output_type": "execute_result"
    }
   ],
   "source": [
    "gallery_y"
   ]
  },
  {
   "cell_type": "code",
   "execution_count": 16,
   "id": "51d4bd27",
   "metadata": {},
   "outputs": [
    {
     "data": {
      "text/plain": [
       "array([15, 24,  8,  0, 65, 39, 58, 60, 22, 64])"
      ]
     },
     "execution_count": 16,
     "metadata": {},
     "output_type": "execute_result"
    }
   ],
   "source": [
    "idx[0, 0:num_rank]"
   ]
  },
  {
   "cell_type": "code",
   "execution_count": 24,
   "id": "b69dfdaa",
   "metadata": {},
   "outputs": [
    {
     "data": {
      "text/plain": [
       "torch.Size([4410, 73])"
      ]
     },
     "execution_count": 24,
     "metadata": {},
     "output_type": "execute_result"
    }
   ],
   "source": [
    "dist.shape"
   ]
  },
  {
   "cell_type": "code",
   "execution_count": 26,
   "id": "a62c26cc",
   "metadata": {},
   "outputs": [
    {
     "data": {
      "text/plain": [
       "(1, 6840, 6840, 10)"
      ]
     },
     "execution_count": 26,
     "metadata": {},
     "output_type": "execute_result"
    }
   ],
   "source": [
    "acc.shape"
   ]
  },
  {
   "cell_type": "code",
   "execution_count": 29,
   "id": "38337300",
   "metadata": {},
   "outputs": [
    {
     "data": {
      "text/plain": [
       "1"
      ]
     },
     "execution_count": 29,
     "metadata": {},
     "output_type": "execute_result"
    }
   ],
   "source": [
    "len(gallery_seqs)"
   ]
  },
  {
   "cell_type": "code",
   "execution_count": 30,
   "id": "e8f6b905",
   "metadata": {},
   "outputs": [
    {
     "data": {
      "text/plain": [
       "array([[[[68.5 , 75.12, 77.28, ..., 80.41, 80.66, 80.84],\n",
       "         [68.5 , 75.12, 77.28, ..., 80.41, 80.66, 80.84],\n",
       "         [68.5 , 75.12, 77.28, ..., 80.41, 80.66, 80.84],\n",
       "         ...,\n",
       "         [68.5 , 75.12, 77.28, ..., 80.41, 80.66, 80.84],\n",
       "         [68.5 , 75.12, 77.28, ..., 80.41, 80.66, 80.84],\n",
       "         [68.5 , 75.12, 77.28, ..., 80.41, 80.66, 80.84]],\n",
       "\n",
       "        [[68.5 , 75.12, 77.28, ..., 80.41, 80.66, 80.84],\n",
       "         [68.5 , 75.12, 77.28, ..., 80.41, 80.66, 80.84],\n",
       "         [68.5 , 75.12, 77.28, ..., 80.41, 80.66, 80.84],\n",
       "         ...,\n",
       "         [68.5 , 75.12, 77.28, ..., 80.41, 80.66, 80.84],\n",
       "         [68.5 , 75.12, 77.28, ..., 80.41, 80.66, 80.84],\n",
       "         [68.5 , 75.12, 77.28, ..., 80.41, 80.66, 80.84]],\n",
       "\n",
       "        [[68.5 , 75.12, 77.28, ..., 80.41, 80.66, 80.84],\n",
       "         [68.5 , 75.12, 77.28, ..., 80.41, 80.66, 80.84],\n",
       "         [68.5 , 75.12, 77.28, ..., 80.41, 80.66, 80.84],\n",
       "         ...,\n",
       "         [68.5 , 75.12, 77.28, ..., 80.41, 80.66, 80.84],\n",
       "         [68.5 , 75.12, 77.28, ..., 80.41, 80.66, 80.84],\n",
       "         [68.5 , 75.12, 77.28, ..., 80.41, 80.66, 80.84]],\n",
       "\n",
       "        ...,\n",
       "\n",
       "        [[68.5 , 75.12, 77.28, ..., 80.41, 80.66, 80.84],\n",
       "         [68.5 , 75.12, 77.28, ..., 80.41, 80.66, 80.84],\n",
       "         [68.5 , 75.12, 77.28, ..., 80.41, 80.66, 80.84],\n",
       "         ...,\n",
       "         [68.5 , 75.12, 77.28, ..., 80.41, 80.66, 80.84],\n",
       "         [68.5 , 75.12, 77.28, ..., 80.41, 80.66, 80.84],\n",
       "         [68.5 , 75.12, 77.28, ..., 80.41, 80.66, 80.84]],\n",
       "\n",
       "        [[68.5 , 75.12, 77.28, ..., 80.41, 80.66, 80.84],\n",
       "         [68.5 , 75.12, 77.28, ..., 80.41, 80.66, 80.84],\n",
       "         [68.5 , 75.12, 77.28, ..., 80.41, 80.66, 80.84],\n",
       "         ...,\n",
       "         [68.5 , 75.12, 77.28, ..., 80.41, 80.66, 80.84],\n",
       "         [68.5 , 75.12, 77.28, ..., 80.41, 80.66, 80.84],\n",
       "         [68.5 , 75.12, 77.28, ..., 80.41, 80.66, 80.84]],\n",
       "\n",
       "        [[68.5 , 75.12, 77.28, ..., 80.41, 80.66, 80.84],\n",
       "         [68.5 , 75.12, 77.28, ..., 80.41, 80.66, 80.84],\n",
       "         [68.5 , 75.12, 77.28, ..., 80.41, 80.66, 80.84],\n",
       "         ...,\n",
       "         [68.5 , 75.12, 77.28, ..., 80.41, 80.66, 80.84],\n",
       "         [68.5 , 75.12, 77.28, ..., 80.41, 80.66, 80.84],\n",
       "         [68.5 , 75.12, 77.28, ..., 80.41, 80.66, 80.84]]]])"
      ]
     },
     "execution_count": 30,
     "metadata": {},
     "output_type": "execute_result"
    }
   ],
   "source": [
    "acc"
   ]
  },
  {
   "cell_type": "code",
   "execution_count": 35,
   "id": "8a868380",
   "metadata": {},
   "outputs": [
    {
     "data": {
      "text/plain": [
       "6084"
      ]
     },
     "execution_count": 35,
     "metadata": {},
     "output_type": "execute_result"
    }
   ],
   "source": [
    "probe_sequence_label_mask.sum()"
   ]
  },
  {
   "cell_type": "code",
   "execution_count": 36,
   "id": "2a19416d",
   "metadata": {},
   "outputs": [
    {
     "data": {
      "text/plain": [
       "4410"
      ]
     },
     "execution_count": 36,
     "metadata": {},
     "output_type": "execute_result"
    }
   ],
   "source": [
    "pseq_mask.sum()"
   ]
  },
  {
   "cell_type": "code",
   "execution_count": 37,
   "id": "a9021cf1",
   "metadata": {},
   "outputs": [
    {
     "data": {
      "text/plain": [
       "3654"
      ]
     },
     "execution_count": 37,
     "metadata": {},
     "output_type": "execute_result"
    }
   ],
   "source": [
    "(probe_sequence_label_mask & pseq_mask).sum()"
   ]
  },
  {
   "cell_type": "code",
   "execution_count": 38,
   "id": "7621bddd",
   "metadata": {},
   "outputs": [
    {
     "data": {
      "text/plain": [
       "(6840, 31, 256)"
      ]
     },
     "execution_count": 38,
     "metadata": {},
     "output_type": "execute_result"
    }
   ],
   "source": [
    "feature.shape"
   ]
  },
  {
   "cell_type": "code",
   "execution_count": null,
   "id": "0a118e02",
   "metadata": {},
   "outputs": [],
   "source": []
  },
  {
   "cell_type": "code",
   "execution_count": 155,
   "id": "86dd16a3",
   "metadata": {},
   "outputs": [],
   "source": [
    "probe_in_top_N = np.cumsum(np.reshape(probe_y, [-1, 1]) == gallery_y[idx[:, 0:num_rank]], 1) > 0\n",
    "ranked_distances = dist.sort(1)[0][:, 0:num_rank]\n",
    "\n",
    "mated_probes_mask = np.isin(probe_y, gallery_y)\n",
    "non_mated_probes_mask = (~mated_probes_mask)\n",
    "cos_distance_thresholds = np.arange(0, 1, 0.0001)\n",
    "\n",
    "\n",
    "ranks = np.array([1, 5, 10]) - 1\n",
    "fnirs = np.zeros((len(ranks), len(cos_distance_thresholds)))\n",
    "fpirs = np.zeros((len(ranks), len(cos_distance_thresholds)))\n",
    "\n",
    "for ii, thresh in enumerate(cos_distance_thresholds):\n",
    "    for jj, rank in enumerate(ranks):\n",
    "        fnir = np.logical_or(~probe_in_top_N[mated_probes_mask, rank],\n",
    "                             (ranked_distances[mated_probes_mask, rank].cpu().numpy() > thresh)).sum()\n",
    "        fpir = np.logical_or(probe_in_top_N[non_mated_probes_mask, rank],\n",
    "                             (ranked_distances[non_mated_probes_mask, rank].cpu().numpy() < thresh)).sum()\n",
    "    \n",
    "    \n",
    "        fnirs[jj, ii] = fnir\n",
    "        fpirs[jj, ii] = fpir\n",
    "    \n",
    "fnirs = fnirs / mated_probes_mask.sum()\n",
    "fpirs = fpirs / non_mated_probes_mask.sum()"
   ]
  },
  {
   "cell_type": "code",
   "execution_count": 76,
   "id": "747f002b",
   "metadata": {},
   "outputs": [],
   "source": [
    "import matplotlib.pyplot as plt\n",
    "\n",
    "%matplotlib notebook\n",
    "%matplotlib inline\n",
    "dpi = 150"
   ]
  },
  {
   "cell_type": "code",
   "execution_count": 161,
   "id": "92ad1382",
   "metadata": {
    "scrolled": false
   },
   "outputs": [
    {
     "data": {
      "image/png": "[encoded data removed]",
      "text/plain": [
       "<Figure size 900x600 with 1 Axes>"
      ]
     },
     "metadata": {},
     "output_type": "display_data"
    }
   ],
   "source": [
    "fig = plt.figure(facecolor='white', dpi=dpi)\n",
    "\n",
    "for rr, rank in enumerate(ranks):\n",
    "    plt.plot(fpirs[rr, :], fnirs[rr, :], label='Rank-{}'.format(rank+1))\n",
    "plt.plot(fpirs[0, :], cos_distance_thresholds, label='Cos distance threshold')\n",
    "plt.plot(cos_distance_thresholds, fnirs[0, :], label='Cos distance threshold')\n",
    "\n",
    "    \n",
    "# plt.semilogx(fpirs[0, :], fnirs[0, :], label='Rank-{}'.format(1))\n",
    "# plt.semilogx(fpirs[1, :], fnirs[1, :], label='Rank-{}'.format(5))\n",
    "# plt.semilogx(fpirs[2, :], fnirs[2, :], label='Rank-{}'.format(10))\n",
    "\n",
    "plt.title('Open set BTS1 gait recognition FNIR @ FPIR plot')\n",
    "plt.xlabel('FPIR')\n",
    "plt.ylabel('FNIR')\n",
    "plt.legend()\n",
    "plt.grid(which='major')\n",
    "plt.grid(which='minor')\n",
    "plt.ylim([0, 1])\n",
    "plt.show()\n"
   ]
  },
  {
   "cell_type": "code",
   "execution_count": 138,
   "id": "be81de53",
   "metadata": {},
   "outputs": [
    {
     "data": {
      "text/plain": [
       "3654"
      ]
     },
     "execution_count": 138,
     "metadata": {},
     "output_type": "execute_result"
    }
   ],
   "source": [
    "np.logical_or(~probe_in_top_N[mated_probes_mask, 0],\n",
    "              (ranked_distances[mated_probes_mask, 0].cpu().numpy() > thresh)).sum()"
   ]
  },
  {
   "cell_type": "code",
   "execution_count": 132,
   "id": "2736f169",
   "metadata": {},
   "outputs": [
    {
     "data": {
      "text/plain": [
       "0.0"
      ]
     },
     "execution_count": 132,
     "metadata": {},
     "output_type": "execute_result"
    }
   ],
   "source": [
    "thresh"
   ]
  },
  {
   "cell_type": "code",
   "execution_count": 133,
   "id": "a4ba1ee5",
   "metadata": {},
   "outputs": [
    {
     "data": {
      "text/plain": [
       "3654"
      ]
     },
     "execution_count": 133,
     "metadata": {},
     "output_type": "execute_result"
    }
   ],
   "source": [
    "mated_probes_mask.sum()"
   ]
  },
  {
   "cell_type": "code",
   "execution_count": 134,
   "id": "f48316ef",
   "metadata": {},
   "outputs": [
    {
     "data": {
      "text/plain": [
       "0.0"
      ]
     },
     "execution_count": 134,
     "metadata": {},
     "output_type": "execute_result"
    }
   ],
   "source": [
    "fnirs.max()"
   ]
  },
  {
   "cell_type": "code",
   "execution_count": null,
   "id": "1b3110fb",
   "metadata": {},
   "outputs": [],
   "source": []
  }
 ],
 "metadata": {
  "kernelspec": {
   "display_name": "Python 3 (ipykernel)",
   "language": "python",
   "name": "python3"
  },
  "language_info": {
   "codemirror_mode": {
    "name": "ipython",
    "version": 3
   },
   "file_extension": ".py",
   "mimetype": "text/x-python",
   "name": "python",
   "nbconvert_exporter": "python",
   "pygments_lexer": "ipython3",
   "version": "3.7.13"
  }
 },
 "nbformat": 4,
 "nbformat_minor": 5
}
