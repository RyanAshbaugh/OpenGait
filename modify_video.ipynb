{
 "cells": [
  {
   "cell_type": "code",
   "execution_count": 1,
   "id": "67621c9f",
   "metadata": {},
   "outputs": [],
   "source": [
    "import cv2\n",
    "import numpy as np\n",
    "from tqdm import tqdm"
   ]
  },
  {
   "cell_type": "code",
   "execution_count": 2,
   "id": "21fd59e7",
   "metadata": {},
   "outputs": [],
   "source": [
    "video_name = \"/research/iprobe-ashbau12/videos/G00071_set1_struct_Q6215-LE_ACCC8EEAB530_99449cfb.mp4\""
   ]
  },
  {
   "cell_type": "code",
   "execution_count": 3,
   "id": "41d5bfb8",
   "metadata": {},
   "outputs": [],
   "source": [
    "video_capture = cv2.VideoCapture(video_name)"
   ]
  },
  {
   "cell_type": "code",
   "execution_count": 4,
   "id": "d7a0ebef",
   "metadata": {},
   "outputs": [],
   "source": [
    "num_frames = int(video_capture.get(cv2.CAP_PROP_FRAME_COUNT))\n",
    "W, H = (int(video_capture.get(cv2.CAP_PROP_FRAME_WIDTH)),\n",
    "        int(video_capture.get(cv2.CAP_PROP_FRAME_HEIGHT)))\n",
    "\n",
    "frames_array = np.zeros((num_frames, H, W, 3), dtype=np.uint8)"
   ]
  },
  {
   "cell_type": "code",
   "execution_count": null,
   "id": "32314da7",
   "metadata": {},
   "outputs": [],
   "source": [
    "with tqdm(total=num_frames) as progress_bar:\n",
    "    for ii in range(num_frames):\n",
    "        flag, img = video_capture.read()\n",
    "        frames_array[ii, :, :, :] = img\n",
    "        progress_bar.update()"
   ]
  },
  {
   "cell_type": "code",
   "execution_count": null,
   "id": "c351b29f",
   "metadata": {},
   "outputs": [],
   "source": [
    "with tqdm(total=num_frames) as progress_bar:\n",
    "    for ii in range(num_frames):\n",
    "        flag, img = video_capture.read()\n",
    "        img[642:861, :, :] = img[861:1080, :, :]\n",
    "        videoWriter.write(img)\n",
    "        progress_bar.update()"
   ]
  },
  {
   "cell_type": "code",
   "execution_count": null,
   "id": "b1d7f3a5",
   "metadata": {},
   "outputs": [],
   "source": [
    "frames_array.shape"
   ]
  },
  {
   "cell_type": "code",
   "execution_count": null,
   "id": "4067516c",
   "metadata": {},
   "outputs": [],
   "source": [
    "modified_frames = np.zeros((num_frames, H, W, 3), dtype=np.uint8)"
   ]
  },
  {
   "cell_type": "code",
   "execution_count": null,
   "id": "1f1adf28",
   "metadata": {},
   "outputs": [],
   "source": [
    "grass_patch = frames_array[0, 861:1080, :, :]"
   ]
  },
  {
   "cell_type": "code",
   "execution_count": null,
   "id": "6f7d1345",
   "metadata": {},
   "outputs": [],
   "source": [
    "with tqdm(total=num_frames) as progress_bar:\n",
    "\n",
    "    for ii in range(num_frames):\n",
    "        modified_frames[ii, :, :, :] = frames_array[ii, :, :, :]\n",
    "        modified_frames[ii, 642:861, :, :] = grass_patch\n",
    "        progress_bar.update()"
   ]
  },
  {
   "cell_type": "code",
   "execution_count": null,
   "id": "3dfa53ce",
   "metadata": {},
   "outputs": [],
   "source": [
    "modified_video_fname = \"/research/iprobe-ashbau12/videos/G00071_set1_struct_Q6215-LE_ACCC8EEAB530_99449cfb_modified.avi\"\n",
    "\n",
    "fps = video_capture.get(cv2.CAP_PROP_FPS)\n",
    "size = (W, H)\n",
    "fourcc = cv2.VideoWriter_fourcc(*'mp4v')\n",
    "videoWriter = cv2.VideoWriter(modified_video_fname, fourcc, fps, size)"
   ]
  },
  {
   "cell_type": "code",
   "execution_count": null,
   "id": "c256ac4f",
   "metadata": {},
   "outputs": [],
   "source": [
    "with tqdm(total=num_frames) as progress_bar:\n",
    "\n",
    "    for ii in range(num_frames):\n",
    "        videoWriter.write(modified_frames[ii, :, :, :])\n",
    "        progress_bar.update()"
   ]
  },
  {
   "cell_type": "code",
   "execution_count": null,
   "id": "ffd88c4d",
   "metadata": {},
   "outputs": [],
   "source": []
  },
  {
   "cell_type": "code",
   "execution_count": null,
   "id": "6074818d",
   "metadata": {},
   "outputs": [],
   "source": []
  },
  {
   "cell_type": "code",
   "execution_count": null,
   "id": "9ec79557",
   "metadata": {},
   "outputs": [],
   "source": []
  },
  {
   "cell_type": "code",
   "execution_count": null,
   "id": "1da62103",
   "metadata": {},
   "outputs": [],
   "source": [
    "img"
   ]
  },
  {
   "cell_type": "code",
   "execution_count": null,
   "id": "90f6cfef",
   "metadata": {},
   "outputs": [],
   "source": []
  }
 ],
 "metadata": {
  "kernelspec": {
   "display_name": "Python 3 (ipykernel)",
   "language": "python",
   "name": "python3"
  },
  "language_info": {
   "codemirror_mode": {
    "name": "ipython",
    "version": 3
   },
   "file_extension": ".py",
   "mimetype": "text/x-python",
   "name": "python",
   "nbconvert_exporter": "python",
   "pygments_lexer": "ipython3",
   "version": "3.7.13"
  }
 },
 "nbformat": 4,
 "nbformat_minor": 5
}
