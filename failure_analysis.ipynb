{
 "cells": [
  {
   "cell_type": "code",
   "execution_count": 1,
   "id": "a5c3314e",
   "metadata": {},
   "outputs": [],
   "source": [
    "import pickle\n",
    "import numpy as np\n",
    "import torch\n",
    "import sys\n",
    "import pandas as pd\n",
    "\n",
    "sys.path.insert(0, '/research/iprobe-ashbau12/repos/outside/OpenGait/opengait/')\n",
    "from utils.evaluation import cuda_dist\n",
    "from tools.briar_parser import BRIARDataset\n",
    "\n",
    "BTS1_location = '/research/iprobe/datastore/datasets/briar/ORNL/BTS1'\n",
    "BTS1_df = '/research/iprobe-ashbau12/repos/briar-parser/briar_BTS1_dataset_full_distractor.pkl'\n",
    "\n",
    "import matplotlib.pyplot as plt\n",
    "\n",
    "%matplotlib notebook\n",
    "%matplotlib inline\n",
    "dpi = 150"
   ]
  },
  {
   "cell_type": "code",
   "execution_count": 2,
   "id": "47d522e5",
   "metadata": {},
   "outputs": [],
   "source": [
    "BTS1 = BRIARDataset(BTS1_location, BTS1_df)"
   ]
  },
  {
   "cell_type": "code",
   "execution_count": 3,
   "id": "70888ffe",
   "metadata": {},
   "outputs": [],
   "source": [
    "test_metric_file = \"./accuracy_and_seqs_random_500_s2s.pkl\"\n",
    "\n",
    "with open(test_metric_file, \"rb\") as f:\n",
    "    false_in_row_until_correct_match = pickle.load(f)\n",
    "    acc = pickle.load(f)\n",
    "    probe_seqs = pickle.load(f)\n",
    "    gallery_seqs = pickle.load(f)                               \n",
    "    seq_type = pickle.load(f)\n",
    "    gallery_y = pickle.load(f)\n",
    "    label = pickle.load(f)\n",
    "    probe_sequence_label_mask = pickle.load(f)\n",
    "    gallery_labels = pickle.load(f)\n",
    "    to_save = pickle.load(f)\n",
    "    all_video_fnames = pickle.load(f)"
   ]
  },
  {
   "cell_type": "code",
   "execution_count": 4,
   "id": "5d1302a7",
   "metadata": {},
   "outputs": [
    {
     "name": "stdout",
     "output_type": "stream",
     "text": [
      "[   96    97    98 ... 26395 26396 26397]\n"
     ]
    }
   ],
   "source": [
    "probe_seq_mask = np.isin(seq_type, probe_seqs) & probe_sequence_label_mask\n",
    "print(np.where(probe_seq_mask)[0])"
   ]
  },
  {
   "cell_type": "code",
   "execution_count": 5,
   "id": "74a98dfb",
   "metadata": {},
   "outputs": [
    {
     "data": {
      "text/plain": [
       "(16938, 11)"
      ]
     },
     "execution_count": 5,
     "metadata": {},
     "output_type": "execute_result"
    }
   ],
   "source": [
    "false_in_row_until_correct_match.shape"
   ]
  },
  {
   "cell_type": "code",
   "execution_count": 6,
   "id": "bacf294e",
   "metadata": {},
   "outputs": [
    {
     "name": "stdout",
     "output_type": "stream",
     "text": [
      "['G00380_set1_rand_1622569450579_31fc247a'\n",
      " 'G00380_set1_rand_1622569450579_31fc247a'\n",
      " 'G00380_set1_rand_1622569450597_707b2f7f' ...\n",
      " 'G00354_set2_struct_Q6215-LE_ACCC8EEAB537_8d6dd934'\n",
      " 'G00354_set2_struct_Q6215-LE_ACCC8EEAB537_8d6dd934'\n",
      " 'G00354_set2_struct_Q6215-LE_ACCC8EEAB537_8d6dd934']\n"
     ]
    }
   ],
   "source": [
    "fnames_for_probes_sequences = np.asarray(all_video_fnames)[np.where(probe_seq_mask)]\n",
    "print(fnames_for_probes_sequences)"
   ]
  },
  {
   "cell_type": "code",
   "execution_count": 7,
   "id": "c70ec513",
   "metadata": {},
   "outputs": [
    {
     "data": {
      "text/plain": [
       "23159"
      ]
     },
     "execution_count": 7,
     "metadata": {},
     "output_type": "execute_result"
    }
   ],
   "source": [
    "# all videos belonging to a subject which has gallery\n",
    "probe_sequence_label_mask.sum()"
   ]
  },
  {
   "cell_type": "code",
   "execution_count": 8,
   "id": "7bbac5fb",
   "metadata": {},
   "outputs": [
    {
     "data": {
      "text/plain": [
       "Index(['path', 'fname', 'controlled/field', 'stand/struct/rand', 'wb/face',\n",
       "       'set_num', 'subject_id', 'full/distractor', 'distance/uav',\n",
       "       'labels_path', 'wb_labels', 'face_labels'],\n",
       "      dtype='object')"
      ]
     },
     "execution_count": 8,
     "metadata": {},
     "output_type": "execute_result"
    }
   ],
   "source": [
    "BTS1.full_label_df.columns"
   ]
  },
  {
   "cell_type": "code",
   "execution_count": 9,
   "id": "db61e325",
   "metadata": {},
   "outputs": [
    {
     "data": {
      "text/plain": [
       "'200m'"
      ]
     },
     "execution_count": 9,
     "metadata": {},
     "output_type": "execute_result"
    }
   ],
   "source": [
    "index_of_video = np.where(BTS1.full_label_df['fname'] == \n",
    "                          fnames_for_probes_sequences[0])[0][0]\n",
    "BTS1.full_label_df['distance/uav'][index_of_video]"
   ]
  },
  {
   "cell_type": "code",
   "execution_count": 10,
   "id": "917e1d31",
   "metadata": {},
   "outputs": [],
   "source": [
    "distance_rank_results_df = pd.DataFrame()\n",
    "distance_rank_results_df['fname'] = fnames_for_probes_sequences\n",
    "\n",
    "# BTS1.full_label_df[['fname', 'distance/uav']]\n",
    "distances = []\n",
    "conditions = []\n",
    "for ii, name in enumerate(distance_rank_results_df['fname']):\n",
    "    index_of_video = np.where(BTS1.full_label_df['fname'] == \n",
    "                              name)[0][0]\n",
    "    distances.append(BTS1.full_label_df['distance/uav'][index_of_video])\n",
    "    conditions.append(BTS1.full_label_df['stand/struct/rand'][index_of_video])\n",
    "    \n",
    "distance_rank_results_df['distance/uav'] = distances\n",
    "distance_rank_results_df['stand/struct/rand'] = conditions\n",
    "distance_rank_results_df['rank-1'] = false_in_row_until_correct_match[:, 0]\n",
    "distance_rank_results_df['rank-5'] = false_in_row_until_correct_match[:, 4]\n",
    "distance_rank_results_df['rank-10'] = false_in_row_until_correct_match[:, 9]"
   ]
  },
  {
   "cell_type": "code",
   "execution_count": 11,
   "id": "afc33af4",
   "metadata": {
    "scrolled": false
   },
   "outputs": [
    {
     "data": {
      "text/plain": [
       "fname                G00380_set1_rand_1622569450579_31fc247a\n",
       "distance/uav                                            200m\n",
       "stand/struct/rand                                       rand\n",
       "rank-1                                                  True\n",
       "rank-5                                                  True\n",
       "rank-10                                                 True\n",
       "Name: 0, dtype: object"
      ]
     },
     "execution_count": 11,
     "metadata": {},
     "output_type": "execute_result"
    }
   ],
   "source": [
    "distance_rank_results_df.loc[0]"
   ]
  },
  {
   "cell_type": "code",
   "execution_count": 12,
   "id": "b1029633",
   "metadata": {
    "scrolled": true
   },
   "outputs": [
    {
     "data": {
      "text/html": [
       "<div>\n",
       "<style scoped>\n",
       "    .dataframe tbody tr th:only-of-type {\n",
       "        vertical-align: middle;\n",
       "    }\n",
       "\n",
       "    .dataframe tbody tr th {\n",
       "        vertical-align: top;\n",
       "    }\n",
       "\n",
       "    .dataframe thead th {\n",
       "        text-align: right;\n",
       "    }\n",
       "</style>\n",
       "<table border=\"1\" class=\"dataframe\">\n",
       "  <thead>\n",
       "    <tr style=\"text-align: right;\">\n",
       "      <th></th>\n",
       "      <th>fname</th>\n",
       "      <th>distance/uav</th>\n",
       "      <th>stand/struct/rand</th>\n",
       "      <th>rank-1</th>\n",
       "      <th>rank-5</th>\n",
       "      <th>rank-10</th>\n",
       "    </tr>\n",
       "  </thead>\n",
       "  <tbody>\n",
       "    <tr>\n",
       "      <th>0</th>\n",
       "      <td>G00380_set1_rand_1622569450579_31fc247a</td>\n",
       "      <td>200m</td>\n",
       "      <td>rand</td>\n",
       "      <td>True</td>\n",
       "      <td>True</td>\n",
       "      <td>True</td>\n",
       "    </tr>\n",
       "    <tr>\n",
       "      <th>1</th>\n",
       "      <td>G00380_set1_rand_1622569450579_31fc247a</td>\n",
       "      <td>200m</td>\n",
       "      <td>rand</td>\n",
       "      <td>True</td>\n",
       "      <td>True</td>\n",
       "      <td>True</td>\n",
       "    </tr>\n",
       "    <tr>\n",
       "      <th>2</th>\n",
       "      <td>G00380_set1_rand_1622569450597_707b2f7f</td>\n",
       "      <td>500m</td>\n",
       "      <td>rand</td>\n",
       "      <td>False</td>\n",
       "      <td>True</td>\n",
       "      <td>True</td>\n",
       "    </tr>\n",
       "    <tr>\n",
       "      <th>3</th>\n",
       "      <td>G00380_set1_rand_1622569450597_707b2f7f</td>\n",
       "      <td>500m</td>\n",
       "      <td>rand</td>\n",
       "      <td>False</td>\n",
       "      <td>True</td>\n",
       "      <td>True</td>\n",
       "    </tr>\n",
       "    <tr>\n",
       "      <th>4</th>\n",
       "      <td>G00380_set1_rand_1622569450597_707b2f7f</td>\n",
       "      <td>500m</td>\n",
       "      <td>rand</td>\n",
       "      <td>False</td>\n",
       "      <td>True</td>\n",
       "      <td>True</td>\n",
       "    </tr>\n",
       "    <tr>\n",
       "      <th>...</th>\n",
       "      <td>...</td>\n",
       "      <td>...</td>\n",
       "      <td>...</td>\n",
       "      <td>...</td>\n",
       "      <td>...</td>\n",
       "      <td>...</td>\n",
       "    </tr>\n",
       "    <tr>\n",
       "      <th>16933</th>\n",
       "      <td>G00354_set2_struct_DWC-MPTZ336XW_0007D81E134C_...</td>\n",
       "      <td>100m</td>\n",
       "      <td>struct</td>\n",
       "      <td>True</td>\n",
       "      <td>True</td>\n",
       "      <td>True</td>\n",
       "    </tr>\n",
       "    <tr>\n",
       "      <th>16934</th>\n",
       "      <td>G00354_set2_struct_Q6215-LE_ACCC8EEAB537_8d6dd934</td>\n",
       "      <td>close_range</td>\n",
       "      <td>struct</td>\n",
       "      <td>True</td>\n",
       "      <td>True</td>\n",
       "      <td>True</td>\n",
       "    </tr>\n",
       "    <tr>\n",
       "      <th>16935</th>\n",
       "      <td>G00354_set2_struct_Q6215-LE_ACCC8EEAB537_8d6dd934</td>\n",
       "      <td>close_range</td>\n",
       "      <td>struct</td>\n",
       "      <td>True</td>\n",
       "      <td>True</td>\n",
       "      <td>True</td>\n",
       "    </tr>\n",
       "    <tr>\n",
       "      <th>16936</th>\n",
       "      <td>G00354_set2_struct_Q6215-LE_ACCC8EEAB537_8d6dd934</td>\n",
       "      <td>close_range</td>\n",
       "      <td>struct</td>\n",
       "      <td>True</td>\n",
       "      <td>True</td>\n",
       "      <td>True</td>\n",
       "    </tr>\n",
       "    <tr>\n",
       "      <th>16937</th>\n",
       "      <td>G00354_set2_struct_Q6215-LE_ACCC8EEAB537_8d6dd934</td>\n",
       "      <td>close_range</td>\n",
       "      <td>struct</td>\n",
       "      <td>True</td>\n",
       "      <td>True</td>\n",
       "      <td>True</td>\n",
       "    </tr>\n",
       "  </tbody>\n",
       "</table>\n",
       "<p>16938 rows × 6 columns</p>\n",
       "</div>"
      ],
      "text/plain": [
       "                                                   fname distance/uav  \\\n",
       "0                G00380_set1_rand_1622569450579_31fc247a         200m   \n",
       "1                G00380_set1_rand_1622569450579_31fc247a         200m   \n",
       "2                G00380_set1_rand_1622569450597_707b2f7f         500m   \n",
       "3                G00380_set1_rand_1622569450597_707b2f7f         500m   \n",
       "4                G00380_set1_rand_1622569450597_707b2f7f         500m   \n",
       "...                                                  ...          ...   \n",
       "16933  G00354_set2_struct_DWC-MPTZ336XW_0007D81E134C_...         100m   \n",
       "16934  G00354_set2_struct_Q6215-LE_ACCC8EEAB537_8d6dd934  close_range   \n",
       "16935  G00354_set2_struct_Q6215-LE_ACCC8EEAB537_8d6dd934  close_range   \n",
       "16936  G00354_set2_struct_Q6215-LE_ACCC8EEAB537_8d6dd934  close_range   \n",
       "16937  G00354_set2_struct_Q6215-LE_ACCC8EEAB537_8d6dd934  close_range   \n",
       "\n",
       "      stand/struct/rand  rank-1  rank-5  rank-10  \n",
       "0                  rand    True    True     True  \n",
       "1                  rand    True    True     True  \n",
       "2                  rand   False    True     True  \n",
       "3                  rand   False    True     True  \n",
       "4                  rand   False    True     True  \n",
       "...                 ...     ...     ...      ...  \n",
       "16933            struct    True    True     True  \n",
       "16934            struct    True    True     True  \n",
       "16935            struct    True    True     True  \n",
       "16936            struct    True    True     True  \n",
       "16937            struct    True    True     True  \n",
       "\n",
       "[16938 rows x 6 columns]"
      ]
     },
     "execution_count": 12,
     "metadata": {},
     "output_type": "execute_result"
    }
   ],
   "source": [
    "distance_rank_results_df"
   ]
  },
  {
   "cell_type": "code",
   "execution_count": 13,
   "id": "920ef1f8",
   "metadata": {
    "scrolled": true
   },
   "outputs": [
    {
     "name": "stdout",
     "output_type": "stream",
     "text": [
      "{'close_range': rank-1     0.989090\n",
      "rank-5     0.999171\n",
      "rank-10    0.999171\n",
      "dtype: float64, '500m': rank-1     0.815829\n",
      "rank-5     0.941762\n",
      "rank-10    0.967148\n",
      "dtype: float64, '400m': rank-1     0.795403\n",
      "rank-5     0.906556\n",
      "rank-10    0.946496\n",
      "dtype: float64, '100m': rank-1     0.983429\n",
      "rank-5     1.000000\n",
      "rank-10    1.000000\n",
      "dtype: float64, '200m': rank-1     0.823668\n",
      "rank-5     0.953136\n",
      "rank-10    0.978422\n",
      "dtype: float64, 'uav': rank-1     0.864780\n",
      "rank-5     0.959119\n",
      "rank-10    0.981132\n",
      "dtype: float64}\n",
      "{'rand': rank-1     0.916023\n",
      "rank-5     0.976816\n",
      "rank-10    0.988150\n",
      "dtype: float64, 'stand': rank-1     0.874588\n",
      "rank-5     0.955269\n",
      "rank-10    0.974204\n",
      "dtype: float64, 'struct': rank-1     0.939840\n",
      "rank-5     0.981449\n",
      "rank-10    0.991331\n",
      "dtype: float64}\n"
     ]
    }
   ],
   "source": [
    "distance_list = list(set(distance_rank_results_df['distance/uav']))\n",
    "num_distances = len(distance_list)\n",
    "rank_percentage_distance = {} # np.zeros((num_distances, 3))\n",
    "\n",
    "condition_list = list(set(distance_rank_results_df['stand/struct/rand']))\n",
    "num_conditions = len(condition_list)\n",
    "rank_percentage_condition = {} # np.zeros((num_conditions, 3))\n",
    "\n",
    "for ii, distance in enumerate(distance_list):\n",
    "    current_distance_rows = \\\n",
    "        distance_rank_results_df.loc[distance_rank_results_df['distance/uav']\n",
    "                                     == distance]\n",
    "    num_matches_in_ranks = current_distance_rows[['rank-1', 'rank-5', 'rank-10']].sum(0)\n",
    "    portion_of_matches = num_matches_in_ranks / current_distance_rows.shape[0]\n",
    "    rank_percentage_distance[distance] = portion_of_matches\n",
    "    \n",
    "for ii, condition in enumerate(condition_list):\n",
    "    current_condition_rows = \\\n",
    "        distance_rank_results_df.loc[distance_rank_results_df['stand/struct/rand']\n",
    "                                     == condition]\n",
    "    num_matches_in_ranks = current_condition_rows[['rank-1', 'rank-5', 'rank-10']].sum(0)\n",
    "    portion_of_matches = num_matches_in_ranks / current_condition_rows.shape[0]\n",
    "    rank_percentage_condition[condition] = portion_of_matches\n",
    "    \n",
    "print(rank_percentage_distance)\n",
    "print(rank_percentage_condition)\n"
   ]
  },
  {
   "cell_type": "code",
   "execution_count": 21,
   "id": "44815e81",
   "metadata": {
    "scrolled": false
   },
   "outputs": [
    {
     "data": {
      "text/plain": [
       "<Figure size 432x288 with 0 Axes>"
      ]
     },
     "metadata": {},
     "output_type": "display_data"
    },
    {
     "data": {
      "image/png": "[encoded data removed]",
      "text/plain": [
       "<Figure size 576x432 with 1 Axes>"
      ]
     },
     "metadata": {
      "needs_background": "light"
     },
     "output_type": "display_data"
    },
    {
     "name": "stdout",
     "output_type": "stream",
     "text": [
      "         close_range      100m      200m      400m      500m       uav\n",
      "rank-1      0.989090  0.983429  0.823668  0.795403  0.815829  0.864780\n",
      "rank-5      0.999171  1.000000  0.953136  0.906556  0.941762  0.959119\n",
      "rank-10     0.999171  1.000000  0.978422  0.946496  0.967148  0.981132\n"
     ]
    },
    {
     "data": {
      "image/png": "[encoded data removed]",
      "text/plain": [
       "<Figure size 576x432 with 1 Axes>"
      ]
     },
     "metadata": {
      "needs_background": "light"
     },
     "output_type": "display_data"
    },
    {
     "name": "stdout",
     "output_type": "stream",
     "text": [
      "             rand     stand    struct\n",
      "rank-1   0.916023  0.874588  0.939840\n",
      "rank-5   0.976816  0.955269  0.981449\n",
      "rank-10  0.988150  0.974204  0.991331\n"
     ]
    }
   ],
   "source": [
    "fontsize = 20\n",
    "figsize = (8,6)\n",
    "\n",
    "distance_plot_df = pd.DataFrame(rank_percentage_distance).transpose()\n",
    "distance_plot_df = distance_plot_df.reindex(['close_range',\n",
    "                                             '100m',\n",
    "                                             '200m',\n",
    "                                             '400m',\n",
    "                                             '500m',\n",
    "                                             'uav'])\n",
    "fig = plt.figure(facecolor='white')\n",
    "axes = distance_plot_df.plot(kind='bar',\n",
    "                             grid=True,\n",
    "                             legend=False,\n",
    "                             figsize=figsize,\n",
    "                             fontsize=fontsize\n",
    "                            )\n",
    "axes.set_facecolor('white')\n",
    "axes.legend(bbox_to_anchor=(1, 1),\n",
    "            loc='upper left',\n",
    "            fontsize=fontsize\n",
    "           )\n",
    "plt.title('Ranking by distance (BTS1, 500 random frames)',\n",
    "           fontsize=fontsize\n",
    "         )\n",
    "plt.show()\n",
    "print(distance_plot_df.transpose())\n",
    "\n",
    "\n",
    "condition_plot_df = pd.DataFrame(rank_percentage_condition).transpose()\n",
    "axes = condition_plot_df.plot(kind='bar',\n",
    "                              grid=True,\n",
    "                              legend=False,\n",
    "                              figsize=figsize,\n",
    "                              fontsize=fontsize\n",
    "                             )\n",
    "axes.legend(bbox_to_anchor=(1, 1),\n",
    "            loc='upper left',\n",
    "            fontsize=fontsize\n",
    "           )\n",
    "plt.title('Ranking by condition (BTS1, 500 random frames)',\n",
    "          fontsize=fontsize\n",
    "         )\n",
    "plt.show()\n",
    "print(condition_plot_df.transpose())\n"
   ]
  },
  {
   "cell_type": "code",
   "execution_count": 15,
   "id": "233e0dfd",
   "metadata": {},
   "outputs": [
    {
     "data": {
      "text/html": [
       "<div>\n",
       "<style scoped>\n",
       "    .dataframe tbody tr th:only-of-type {\n",
       "        vertical-align: middle;\n",
       "    }\n",
       "\n",
       "    .dataframe tbody tr th {\n",
       "        vertical-align: top;\n",
       "    }\n",
       "\n",
       "    .dataframe thead th {\n",
       "        text-align: right;\n",
       "    }\n",
       "</style>\n",
       "<table border=\"1\" class=\"dataframe\">\n",
       "  <thead>\n",
       "    <tr style=\"text-align: right;\">\n",
       "      <th></th>\n",
       "      <th>close_range</th>\n",
       "      <th>100m</th>\n",
       "      <th>200m</th>\n",
       "      <th>400m</th>\n",
       "      <th>500m</th>\n",
       "      <th>uav</th>\n",
       "    </tr>\n",
       "  </thead>\n",
       "  <tbody>\n",
       "    <tr>\n",
       "      <th>rank-1</th>\n",
       "      <td>0.989090</td>\n",
       "      <td>0.983429</td>\n",
       "      <td>0.823668</td>\n",
       "      <td>0.795403</td>\n",
       "      <td>0.815829</td>\n",
       "      <td>0.864780</td>\n",
       "    </tr>\n",
       "    <tr>\n",
       "      <th>rank-5</th>\n",
       "      <td>0.999171</td>\n",
       "      <td>1.000000</td>\n",
       "      <td>0.953136</td>\n",
       "      <td>0.906556</td>\n",
       "      <td>0.941762</td>\n",
       "      <td>0.959119</td>\n",
       "    </tr>\n",
       "    <tr>\n",
       "      <th>rank-10</th>\n",
       "      <td>0.999171</td>\n",
       "      <td>1.000000</td>\n",
       "      <td>0.978422</td>\n",
       "      <td>0.946496</td>\n",
       "      <td>0.967148</td>\n",
       "      <td>0.981132</td>\n",
       "    </tr>\n",
       "  </tbody>\n",
       "</table>\n",
       "</div>"
      ],
      "text/plain": [
       "         close_range      100m      200m      400m      500m       uav\n",
       "rank-1      0.989090  0.983429  0.823668  0.795403  0.815829  0.864780\n",
       "rank-5      0.999171  1.000000  0.953136  0.906556  0.941762  0.959119\n",
       "rank-10     0.999171  1.000000  0.978422  0.946496  0.967148  0.981132"
      ]
     },
     "execution_count": 15,
     "metadata": {},
     "output_type": "execute_result"
    }
   ],
   "source": [
    "distance_plot_df.transpose()"
   ]
  },
  {
   "cell_type": "code",
   "execution_count": 16,
   "id": "aef4122e",
   "metadata": {},
   "outputs": [
    {
     "data": {
      "text/html": [
       "<div>\n",
       "<style scoped>\n",
       "    .dataframe tbody tr th:only-of-type {\n",
       "        vertical-align: middle;\n",
       "    }\n",
       "\n",
       "    .dataframe tbody tr th {\n",
       "        vertical-align: top;\n",
       "    }\n",
       "\n",
       "    .dataframe thead th {\n",
       "        text-align: right;\n",
       "    }\n",
       "</style>\n",
       "<table border=\"1\" class=\"dataframe\">\n",
       "  <thead>\n",
       "    <tr style=\"text-align: right;\">\n",
       "      <th></th>\n",
       "      <th>rank-1</th>\n",
       "      <th>rank-5</th>\n",
       "      <th>rank-10</th>\n",
       "    </tr>\n",
       "  </thead>\n",
       "  <tbody>\n",
       "    <tr>\n",
       "      <th>100m</th>\n",
       "      <td>0.983429</td>\n",
       "      <td>1.000000</td>\n",
       "      <td>1.000000</td>\n",
       "    </tr>\n",
       "    <tr>\n",
       "      <th>200m</th>\n",
       "      <td>0.823668</td>\n",
       "      <td>0.953136</td>\n",
       "      <td>0.978422</td>\n",
       "    </tr>\n",
       "    <tr>\n",
       "      <th>400m</th>\n",
       "      <td>0.795403</td>\n",
       "      <td>0.906556</td>\n",
       "      <td>0.946496</td>\n",
       "    </tr>\n",
       "    <tr>\n",
       "      <th>500m</th>\n",
       "      <td>0.815829</td>\n",
       "      <td>0.941762</td>\n",
       "      <td>0.967148</td>\n",
       "    </tr>\n",
       "    <tr>\n",
       "      <th>close_range</th>\n",
       "      <td>0.989090</td>\n",
       "      <td>0.999171</td>\n",
       "      <td>0.999171</td>\n",
       "    </tr>\n",
       "    <tr>\n",
       "      <th>uav</th>\n",
       "      <td>0.864780</td>\n",
       "      <td>0.959119</td>\n",
       "      <td>0.981132</td>\n",
       "    </tr>\n",
       "  </tbody>\n",
       "</table>\n",
       "</div>"
      ],
      "text/plain": [
       "               rank-1    rank-5   rank-10\n",
       "100m         0.983429  1.000000  1.000000\n",
       "200m         0.823668  0.953136  0.978422\n",
       "400m         0.795403  0.906556  0.946496\n",
       "500m         0.815829  0.941762  0.967148\n",
       "close_range  0.989090  0.999171  0.999171\n",
       "uav          0.864780  0.959119  0.981132"
      ]
     },
     "execution_count": 16,
     "metadata": {},
     "output_type": "execute_result"
    }
   ],
   "source": [
    "distance_plot_df.sort_index()"
   ]
  },
  {
   "cell_type": "code",
   "execution_count": 17,
   "id": "fdf00502",
   "metadata": {},
   "outputs": [
    {
     "data": {
      "text/plain": [
       "['close_range', '500m', '400m', '100m', '200m', 'uav']"
      ]
     },
     "execution_count": 17,
     "metadata": {},
     "output_type": "execute_result"
    }
   ],
   "source": [
    "distance_list"
   ]
  },
  {
   "cell_type": "code",
   "execution_count": 18,
   "id": "783dca4f",
   "metadata": {},
   "outputs": [
    {
     "ename": "TypeError",
     "evalue": "bar() missing 1 required positional argument: 'height'",
     "output_type": "error",
     "traceback": [
      "\u001b[0;31m---------------------------------------------------------------------------\u001b[0m",
      "\u001b[0;31mTypeError\u001b[0m                                 Traceback (most recent call last)",
      "\u001b[0;32m/tmp/ipykernel_2814806/2665761876.py\u001b[0m in \u001b[0;36m<module>\u001b[0;34m\u001b[0m\n\u001b[1;32m      4\u001b[0m \u001b[0mplt\u001b[0m\u001b[0;34m.\u001b[0m\u001b[0msubplot\u001b[0m\u001b[0;34m(\u001b[0m\u001b[0;36m1\u001b[0m\u001b[0;34m,\u001b[0m \u001b[0;36m2\u001b[0m\u001b[0;34m,\u001b[0m \u001b[0;36m1\u001b[0m\u001b[0;34m)\u001b[0m\u001b[0;34m\u001b[0m\u001b[0;34m\u001b[0m\u001b[0m\n\u001b[1;32m      5\u001b[0m \u001b[0mX\u001b[0m \u001b[0;34m=\u001b[0m \u001b[0mnp\u001b[0m\u001b[0;34m.\u001b[0m\u001b[0marange\u001b[0m\u001b[0;34m(\u001b[0m\u001b[0;36m4\u001b[0m\u001b[0;34m)\u001b[0m\u001b[0;34m\u001b[0m\u001b[0;34m\u001b[0m\u001b[0m\n\u001b[0;32m----> 6\u001b[0;31m \u001b[0mplt\u001b[0m\u001b[0;34m.\u001b[0m\u001b[0mbar\u001b[0m\u001b[0;34m(\u001b[0m\u001b[0mdistance_plot_df\u001b[0m\u001b[0;34m,\u001b[0m \u001b[0;34m)\u001b[0m\u001b[0;34m\u001b[0m\u001b[0;34m\u001b[0m\u001b[0m\n\u001b[0m",
      "\u001b[0;31mTypeError\u001b[0m: bar() missing 1 required positional argument: 'height'"
     ]
    },
    {
     "data": {
      "image/png": "[encoded data removed]",
      "text/plain": [
       "<Figure size 900x600 with 1 Axes>"
      ]
     },
     "metadata": {},
     "output_type": "display_data"
    }
   ],
   "source": [
    "fig2 = plt.figure(facecolor='white', dpi=dpi)\n",
    "fig2.suptitle('Accuracy broken down by category, BTS1 Closed Set')\n",
    "\n",
    "plt.subplot(1, 2, 1)\n",
    "X = np.arange(4)\n",
    "plt.bar(distance_plot_df, )"
   ]
  },
  {
   "cell_type": "code",
   "execution_count": null,
   "id": "d8194582",
   "metadata": {},
   "outputs": [],
   "source": [
    "false_in_row_until_correct_match"
   ]
  },
  {
   "cell_type": "code",
   "execution_count": null,
   "id": "91d02e22",
   "metadata": {},
   "outputs": [],
   "source": [
    "def isProbeInTopN(probe_y, gallery_y, sorted_indices, rank):\n",
    "    '''\n",
    "    columns are N ranks\n",
    "    rows are probes\n",
    "    '''\n",
    "    probe_in_top_N = np.cumsum(np.reshape(probe_y, [-1, 1]) == gallery_y[sorted_indices[:, 0:rank]], 1) > 0\n",
    "    return probe_in_top_N\n",
    "\n",
    "\n",
    "def findCorrectMatches(probe_in_top_N):\n",
    "    correct_matches = probe_in_top_N.cumsum(axis=1) == 1\n",
    "    return correct_matches\n",
    "\n",
    "\n",
    "def isCorrectMatchWithinRankN(correct_matches, rank):\n",
    "    # be sure to pass only mated probes, since if a row that is all false will\n",
    "    # have argmax return 0\n",
    "    probe_match_within_rank_N = correct_matches.argmax(axis=1) < rank\n",
    "    return probe_match_within_rank_N"
   ]
  },
  {
   "cell_type": "code",
   "execution_count": null,
   "id": "b355cd64",
   "metadata": {},
   "outputs": [],
   "source": [
    "correct_matches = findCorrectMatches(false_in_row_until_correct_match)\n",
    "rank_5_sequences = isCorrectMatchWithinRankN(correct_matches, 9)\n",
    "rank_6_sequences = isCorrectMatchWithinRankN(correct_matches, 10)"
   ]
  },
  {
   "cell_type": "code",
   "execution_count": null,
   "id": "e9b16243",
   "metadata": {},
   "outputs": [],
   "source": [
    "len(np.where(rank_5_sequences)[0])"
   ]
  },
  {
   "cell_type": "code",
   "execution_count": null,
   "id": "7dd9593b",
   "metadata": {},
   "outputs": [],
   "source": [
    "a = set(np.where((rank_5_sequences == False) & (rank_6_sequences == True))[0])"
   ]
  },
  {
   "cell_type": "code",
   "execution_count": null,
   "id": "2eb45edb",
   "metadata": {},
   "outputs": [],
   "source": [
    "len(a)"
   ]
  },
  {
   "cell_type": "code",
   "execution_count": null,
   "id": "76ab2d09",
   "metadata": {},
   "outputs": [],
   "source": []
  }
 ],
 "metadata": {
  "kernelspec": {
   "display_name": "Python 3 (ipykernel)",
   "language": "python",
   "name": "python3"
  },
  "language_info": {
   "codemirror_mode": {
    "name": "ipython",
    "version": 3
   },
   "file_extension": ".py",
   "mimetype": "text/x-python",
   "name": "python",
   "nbconvert_exporter": "python",
   "pygments_lexer": "ipython3",
   "version": "3.9.7"
  }
 },
 "nbformat": 4,
 "nbformat_minor": 5
}
